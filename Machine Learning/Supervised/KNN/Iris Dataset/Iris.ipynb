{
 "cells": [
  {
   "cell_type": "markdown",
   "source": [
    "# Iris Dataset\n",
    "For this project we are going to use the Sklearn Iris dataset. This dataset contains 150 samples of 3 different species of Iris (Iris setosa, Iris virginica and Iris versicolor). For each sample we have 4 features: sepal length, sepal width, petal length and petal width. The goal is to predict the species of Iris based on the 4 features."
   ],
   "metadata": {
    "collapsed": false
   }
  },
  {
   "cell_type": "code",
   "execution_count": 56,
   "metadata": {
    "collapsed": true,
    "ExecuteTime": {
     "start_time": "2023-04-11T00:07:42.169302Z",
     "end_time": "2023-04-11T00:07:42.218677Z"
    }
   },
   "outputs": [],
   "source": [
    "from sklearn.datasets import load_iris"
   ]
  },
  {
   "cell_type": "markdown",
   "source": [
    "Load data and check features"
   ],
   "metadata": {
    "collapsed": false
   }
  },
  {
   "cell_type": "code",
   "execution_count": 57,
   "outputs": [
    {
     "name": "stdout",
     "output_type": "stream",
     "text": [
      "target:  ['setosa' 'versicolor' 'virginica']\n",
      "features:  ['sepal length (cm)', 'sepal width (cm)', 'petal length (cm)', 'petal width (cm)']\n"
     ]
    }
   ],
   "source": [
    "iris = load_iris()\n",
    "print(\"target: \", iris.target_names)\n",
    "print(\"features: \", iris.feature_names)"
   ],
   "metadata": {
    "collapsed": false,
    "ExecuteTime": {
     "start_time": "2023-04-11T00:07:42.177672Z",
     "end_time": "2023-04-11T00:07:42.280460Z"
    }
   }
  },
  {
   "cell_type": "markdown",
   "source": [
    "Since we are working with multiple features, in order to avoid a feature to have more way than any other, we are going to normalize.\n",
    "\n",
    "After we normalize, we divide our dataset into  testing and training set"
   ],
   "metadata": {
    "collapsed": false
   }
  },
  {
   "cell_type": "markdown",
   "source": [],
   "metadata": {
    "collapsed": false
   }
  },
  {
   "cell_type": "code",
   "execution_count": 58,
   "outputs": [],
   "source": [
    "from sklearn.preprocessing import normalize\n",
    "from sklearn.model_selection import train_test_split"
   ],
   "metadata": {
    "collapsed": false,
    "ExecuteTime": {
     "start_time": "2023-04-11T00:07:42.191827Z",
     "end_time": "2023-04-11T00:07:42.280791Z"
    }
   }
  },
  {
   "cell_type": "code",
   "execution_count": 59,
   "outputs": [],
   "source": [
    "normalized_data = normalize(iris.data)\n",
    "X_train, X_test, y_train, y_test =  train_test_split(normalized_data, iris.target, test_size= 0.2)"
   ],
   "metadata": {
    "collapsed": false,
    "ExecuteTime": {
     "start_time": "2023-04-11T00:07:42.202797Z",
     "end_time": "2023-04-11T00:07:42.281796Z"
    }
   }
  },
  {
   "cell_type": "markdown",
   "source": [
    "Now that we have our data prepared, we can fit our model"
   ],
   "metadata": {
    "collapsed": false
   }
  },
  {
   "cell_type": "code",
   "execution_count": 60,
   "outputs": [],
   "source": [
    "from sklearn.neighbors import KNeighborsClassifier"
   ],
   "metadata": {
    "collapsed": false,
    "ExecuteTime": {
     "start_time": "2023-04-11T00:07:42.209687Z",
     "end_time": "2023-04-11T00:07:42.282332Z"
    }
   }
  },
  {
   "cell_type": "code",
   "execution_count": 61,
   "outputs": [],
   "source": [
    "k_list = []\n",
    "for k in range(1, 101):\n",
    "    classifier = KNeighborsClassifier(n_neighbors=k)\n",
    "    classifier.fit(X_train, y_train)\n",
    "    accuracy = classifier.score(X_test, y_test)\n",
    "    k_list.append(accuracy)"
   ],
   "metadata": {
    "collapsed": false,
    "ExecuteTime": {
     "start_time": "2023-04-11T00:07:42.220477Z",
     "end_time": "2023-04-11T00:07:42.836369Z"
    }
   }
  },
  {
   "cell_type": "markdown",
   "source": [
    "We plot our results and see the results"
   ],
   "metadata": {
    "collapsed": false
   }
  },
  {
   "cell_type": "code",
   "execution_count": 62,
   "outputs": [],
   "source": [
    "import matplotlib.pyplot as plt"
   ],
   "metadata": {
    "collapsed": false,
    "ExecuteTime": {
     "start_time": "2023-04-11T00:07:42.829947Z",
     "end_time": "2023-04-11T00:07:42.838504Z"
    }
   }
  },
  {
   "cell_type": "code",
   "execution_count": 63,
   "outputs": [
    {
     "data": {
      "text/plain": "Text(0, 0.5, 'Accuracy')"
     },
     "execution_count": 63,
     "metadata": {},
     "output_type": "execute_result"
    },
    {
     "data": {
      "text/plain": "<Figure size 640x480 with 1 Axes>",
      "image/png": "[encoded data removed]"
     },
     "metadata": {},
     "output_type": "display_data"
    }
   ],
   "source": [
    "plt.plot(range(1,101), k_list, color=\"blue\")\n",
    "plt.xlabel('K value')\n",
    "plt.ylabel('Accuracy')\n"
   ],
   "metadata": {
    "collapsed": false,
    "ExecuteTime": {
     "start_time": "2023-04-11T00:07:42.841113Z",
     "end_time": "2023-04-11T00:07:43.257941Z"
    }
   }
  },
  {
   "cell_type": "code",
   "execution_count": 63,
   "outputs": [],
   "source": [],
   "metadata": {
    "collapsed": false,
    "ExecuteTime": {
     "start_time": "2023-04-11T00:07:43.252719Z",
     "end_time": "2023-04-11T00:07:43.264548Z"
    }
   }
  }
 ],
 "metadata": {
  "kernelspec": {
   "display_name": "Python 3",
   "language": "python",
   "name": "python3"
  },
  "language_info": {
   "codemirror_mode": {
    "name": "ipython",
    "version": 2
   },
   "file_extension": ".py",
   "mimetype": "text/x-python",
   "name": "python",
   "nbconvert_exporter": "python",
   "pygments_lexer": "ipython2",
   "version": "2.7.6"
  }
 },
 "nbformat": 4,
 "nbformat_minor": 0
}
