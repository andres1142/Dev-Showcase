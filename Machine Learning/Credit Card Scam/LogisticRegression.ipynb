{
 "cells": [
  {
   "cell_type": "markdown",
   "metadata": {},
   "source": [
    "# Logistic Regression\n",
    "\n",
    "Using a Transactions dataset, we are going to create a model that will predict if a transaction is a fraudulent or legitimate."
   ]
  },
  {
   "cell_type": "code",
   "execution_count": null,
   "metadata": {},
   "outputs": [],
   "source": []
  },
  {
   "cell_type": "code",
   "execution_count": 98,
   "metadata": {},
   "outputs": [],
   "source": [
    "import seaborn\n",
    "import pandas as pd\n",
    "import numpy as np\n",
    "import matplotlib.pyplot as plt"
   ]
  },
  {
   "cell_type": "markdown",
   "metadata": {},
   "source": [
    "Import our data and standarize it. Our data set has been simplified."
   ]
  },
  {
   "cell_type": "code",
   "execution_count": 99,
   "metadata": {},
   "outputs": [
    {
     "data": {
      "text/html": [
       "<div>\n",
       "<style scoped>\n",
       "    .dataframe tbody tr th:only-of-type {\n",
       "        vertical-align: middle;\n",
       "    }\n",
       "\n",
       "    .dataframe tbody tr th {\n",
       "        vertical-align: top;\n",
       "    }\n",
       "\n",
       "    .dataframe thead th {\n",
       "        text-align: right;\n",
       "    }\n",
       "</style>\n",
       "<table border=\"1\" class=\"dataframe\">\n",
       "  <thead>\n",
       "    <tr style=\"text-align: right;\">\n",
       "      <th></th>\n",
       "      <th>step</th>\n",
       "      <th>type</th>\n",
       "      <th>amount</th>\n",
       "      <th>nameOrig</th>\n",
       "      <th>oldbalanceOrg</th>\n",
       "      <th>newbalanceOrig</th>\n",
       "      <th>nameDest</th>\n",
       "      <th>oldbalanceDest</th>\n",
       "      <th>newbalanceDest</th>\n",
       "      <th>isFraud</th>\n",
       "      <th>isPayment</th>\n",
       "      <th>isMovement</th>\n",
       "      <th>accountDiff</th>\n",
       "    </tr>\n",
       "  </thead>\n",
       "  <tbody>\n",
       "    <tr>\n",
       "      <th>0</th>\n",
       "      <td>206</td>\n",
       "      <td>CASH_OUT</td>\n",
       "      <td>62927.08</td>\n",
       "      <td>C473782114</td>\n",
       "      <td>0.00</td>\n",
       "      <td>0.00</td>\n",
       "      <td>C2096898696</td>\n",
       "      <td>649420.67</td>\n",
       "      <td>712347.75</td>\n",
       "      <td>0</td>\n",
       "      <td>0</td>\n",
       "      <td>1</td>\n",
       "      <td>649420.67</td>\n",
       "    </tr>\n",
       "    <tr>\n",
       "      <th>1</th>\n",
       "      <td>380</td>\n",
       "      <td>PAYMENT</td>\n",
       "      <td>32851.57</td>\n",
       "      <td>C1915112886</td>\n",
       "      <td>0.00</td>\n",
       "      <td>0.00</td>\n",
       "      <td>M916879292</td>\n",
       "      <td>0.00</td>\n",
       "      <td>0.00</td>\n",
       "      <td>0</td>\n",
       "      <td>1</td>\n",
       "      <td>0</td>\n",
       "      <td>0.00</td>\n",
       "    </tr>\n",
       "    <tr>\n",
       "      <th>2</th>\n",
       "      <td>570</td>\n",
       "      <td>CASH_OUT</td>\n",
       "      <td>1131750.38</td>\n",
       "      <td>C1396198422</td>\n",
       "      <td>1131750.38</td>\n",
       "      <td>0.00</td>\n",
       "      <td>C1612235515</td>\n",
       "      <td>313070.53</td>\n",
       "      <td>1444820.92</td>\n",
       "      <td>1</td>\n",
       "      <td>0</td>\n",
       "      <td>1</td>\n",
       "      <td>818679.85</td>\n",
       "    </tr>\n",
       "    <tr>\n",
       "      <th>3</th>\n",
       "      <td>184</td>\n",
       "      <td>CASH_OUT</td>\n",
       "      <td>60519.74</td>\n",
       "      <td>C982551468</td>\n",
       "      <td>60519.74</td>\n",
       "      <td>0.00</td>\n",
       "      <td>C1378644910</td>\n",
       "      <td>54295.32</td>\n",
       "      <td>182654.50</td>\n",
       "      <td>1</td>\n",
       "      <td>0</td>\n",
       "      <td>1</td>\n",
       "      <td>6224.42</td>\n",
       "    </tr>\n",
       "    <tr>\n",
       "      <th>4</th>\n",
       "      <td>162</td>\n",
       "      <td>CASH_IN</td>\n",
       "      <td>46716.01</td>\n",
       "      <td>C1759889425</td>\n",
       "      <td>7668050.60</td>\n",
       "      <td>7714766.61</td>\n",
       "      <td>C2059152908</td>\n",
       "      <td>2125468.75</td>\n",
       "      <td>2078752.75</td>\n",
       "      <td>0</td>\n",
       "      <td>0</td>\n",
       "      <td>0</td>\n",
       "      <td>5542581.85</td>\n",
       "    </tr>\n",
       "  </tbody>\n",
       "</table>\n",
       "</div>"
      ],
      "text/plain": [
       "   step      type      amount     nameOrig  oldbalanceOrg  newbalanceOrig  \\\n",
       "0   206  CASH_OUT    62927.08   C473782114           0.00            0.00   \n",
       "1   380   PAYMENT    32851.57  C1915112886           0.00            0.00   \n",
       "2   570  CASH_OUT  1131750.38  C1396198422     1131750.38            0.00   \n",
       "3   184  CASH_OUT    60519.74   C982551468       60519.74            0.00   \n",
       "4   162   CASH_IN    46716.01  C1759889425     7668050.60      7714766.61   \n",
       "\n",
       "      nameDest  oldbalanceDest  newbalanceDest  isFraud  isPayment  \\\n",
       "0  C2096898696       649420.67       712347.75        0          0   \n",
       "1   M916879292            0.00            0.00        0          1   \n",
       "2  C1612235515       313070.53      1444820.92        1          0   \n",
       "3  C1378644910        54295.32       182654.50        1          0   \n",
       "4  C2059152908      2125468.75      2078752.75        0          0   \n",
       "\n",
       "   isMovement  accountDiff  \n",
       "0           1    649420.67  \n",
       "1           0         0.00  \n",
       "2           1    818679.85  \n",
       "3           1      6224.42  \n",
       "4           0   5542581.85  "
      ]
     },
     "execution_count": 99,
     "metadata": {},
     "output_type": "execute_result"
    }
   ],
   "source": [
    "transactions = pd.read_csv(\"transactions.csv\")\n",
    "fradTrans = (transactions['isFraud'] == 1)\n",
    "transactions.head()"
   ]
  },
  {
   "cell_type": "markdown",
   "metadata": {},
   "source": [
    "We need to use more than the amount to see if a trasaction is fraudulent or not. We have more legitimate transactions than fraudulent transactions overall. This is important since we will need to balance our data. To do so, we are going to use more features.\n",
    "\n",
    "Since we have multiple catergories in our data such as type of transaction. We are going to sort it into two types, \"PAYMENT\"= 1 and \"DEBIT\"= 0. We are going to considered anything else that is not payment as debit.\n",
    "\n",
    "We are going to do the same if money is going out or going in. Categorize \"CASH_OUT\" and \"TRANSFER\" as 1 and \"CASH_IN\" as 0."
   ]
  },
  {
   "cell_type": "code",
   "execution_count": 101,
   "metadata": {},
   "outputs": [],
   "source": [
    "transactions[\"isPayment\"] = transactions[\"type\"].apply(lambda x: 1 if x == \"PAYMENT\" else 0)\n",
    "transactions[\"isMovement\"] = transactions[\"type\"].apply(lambda x: 1 if x == \"TRANSFER\" or \"CASH_OUT\" else 0)"
   ]
  },
  {
   "cell_type": "markdown",
   "metadata": {},
   "source": [
    "Lastly, we are going to keep in mind the account difference. We are going to take the absolute value of oldbalanceOrg and oldbalanceDest. Our assumption is that a grater difference in balance will be more likely to be a fraudulent transaction."
   ]
  },
  {
   "cell_type": "code",
   "execution_count": 102,
   "metadata": {},
   "outputs": [
    {
     "data": {
      "text/html": [
       "<div>\n",
       "<style scoped>\n",
       "    .dataframe tbody tr th:only-of-type {\n",
       "        vertical-align: middle;\n",
       "    }\n",
       "\n",
       "    .dataframe tbody tr th {\n",
       "        vertical-align: top;\n",
       "    }\n",
       "\n",
       "    .dataframe thead th {\n",
       "        text-align: right;\n",
       "    }\n",
       "</style>\n",
       "<table border=\"1\" class=\"dataframe\">\n",
       "  <thead>\n",
       "    <tr style=\"text-align: right;\">\n",
       "      <th></th>\n",
       "      <th>step</th>\n",
       "      <th>type</th>\n",
       "      <th>amount</th>\n",
       "      <th>nameOrig</th>\n",
       "      <th>oldbalanceOrg</th>\n",
       "      <th>newbalanceOrig</th>\n",
       "      <th>nameDest</th>\n",
       "      <th>oldbalanceDest</th>\n",
       "      <th>newbalanceDest</th>\n",
       "      <th>isFraud</th>\n",
       "      <th>isPayment</th>\n",
       "      <th>isMovement</th>\n",
       "      <th>accountDiff</th>\n",
       "    </tr>\n",
       "  </thead>\n",
       "  <tbody>\n",
       "    <tr>\n",
       "      <th>0</th>\n",
       "      <td>206</td>\n",
       "      <td>CASH_OUT</td>\n",
       "      <td>62927.08</td>\n",
       "      <td>C473782114</td>\n",
       "      <td>0.00</td>\n",
       "      <td>0.00</td>\n",
       "      <td>C2096898696</td>\n",
       "      <td>649420.67</td>\n",
       "      <td>712347.75</td>\n",
       "      <td>0</td>\n",
       "      <td>0</td>\n",
       "      <td>1</td>\n",
       "      <td>649420.67</td>\n",
       "    </tr>\n",
       "    <tr>\n",
       "      <th>1</th>\n",
       "      <td>380</td>\n",
       "      <td>PAYMENT</td>\n",
       "      <td>32851.57</td>\n",
       "      <td>C1915112886</td>\n",
       "      <td>0.00</td>\n",
       "      <td>0.00</td>\n",
       "      <td>M916879292</td>\n",
       "      <td>0.00</td>\n",
       "      <td>0.00</td>\n",
       "      <td>0</td>\n",
       "      <td>1</td>\n",
       "      <td>1</td>\n",
       "      <td>0.00</td>\n",
       "    </tr>\n",
       "    <tr>\n",
       "      <th>2</th>\n",
       "      <td>570</td>\n",
       "      <td>CASH_OUT</td>\n",
       "      <td>1131750.38</td>\n",
       "      <td>C1396198422</td>\n",
       "      <td>1131750.38</td>\n",
       "      <td>0.00</td>\n",
       "      <td>C1612235515</td>\n",
       "      <td>313070.53</td>\n",
       "      <td>1444820.92</td>\n",
       "      <td>1</td>\n",
       "      <td>0</td>\n",
       "      <td>1</td>\n",
       "      <td>818679.85</td>\n",
       "    </tr>\n",
       "    <tr>\n",
       "      <th>3</th>\n",
       "      <td>184</td>\n",
       "      <td>CASH_OUT</td>\n",
       "      <td>60519.74</td>\n",
       "      <td>C982551468</td>\n",
       "      <td>60519.74</td>\n",
       "      <td>0.00</td>\n",
       "      <td>C1378644910</td>\n",
       "      <td>54295.32</td>\n",
       "      <td>182654.50</td>\n",
       "      <td>1</td>\n",
       "      <td>0</td>\n",
       "      <td>1</td>\n",
       "      <td>6224.42</td>\n",
       "    </tr>\n",
       "    <tr>\n",
       "      <th>4</th>\n",
       "      <td>162</td>\n",
       "      <td>CASH_IN</td>\n",
       "      <td>46716.01</td>\n",
       "      <td>C1759889425</td>\n",
       "      <td>7668050.60</td>\n",
       "      <td>7714766.61</td>\n",
       "      <td>C2059152908</td>\n",
       "      <td>2125468.75</td>\n",
       "      <td>2078752.75</td>\n",
       "      <td>0</td>\n",
       "      <td>0</td>\n",
       "      <td>1</td>\n",
       "      <td>5542581.85</td>\n",
       "    </tr>\n",
       "  </tbody>\n",
       "</table>\n",
       "</div>"
      ],
      "text/plain": [
       "   step      type      amount     nameOrig  oldbalanceOrg  newbalanceOrig  \\\n",
       "0   206  CASH_OUT    62927.08   C473782114           0.00            0.00   \n",
       "1   380   PAYMENT    32851.57  C1915112886           0.00            0.00   \n",
       "2   570  CASH_OUT  1131750.38  C1396198422     1131750.38            0.00   \n",
       "3   184  CASH_OUT    60519.74   C982551468       60519.74            0.00   \n",
       "4   162   CASH_IN    46716.01  C1759889425     7668050.60      7714766.61   \n",
       "\n",
       "      nameDest  oldbalanceDest  newbalanceDest  isFraud  isPayment  \\\n",
       "0  C2096898696       649420.67       712347.75        0          0   \n",
       "1   M916879292            0.00            0.00        0          1   \n",
       "2  C1612235515       313070.53      1444820.92        1          0   \n",
       "3  C1378644910        54295.32       182654.50        1          0   \n",
       "4  C2059152908      2125468.75      2078752.75        0          0   \n",
       "\n",
       "   isMovement  accountDiff  \n",
       "0           1    649420.67  \n",
       "1           1         0.00  \n",
       "2           1    818679.85  \n",
       "3           1      6224.42  \n",
       "4           1   5542581.85  "
      ]
     },
     "execution_count": 102,
     "metadata": {},
     "output_type": "execute_result"
    }
   ],
   "source": [
    "transactions[\"accountDiff\"] = transactions.apply(lambda row: abs(row['oldbalanceOrg'] - row['oldbalanceDest']), axis=1)\n",
    "transactions.head()"
   ]
  },
  {
   "cell_type": "markdown",
   "metadata": {},
   "source": [
    "Now that we have our data ready, we are going to split it into training and testing data. We are going to use 80% of our data for training and 20% for testing."
   ]
  },
  {
   "cell_type": "code",
   "execution_count": 105,
   "metadata": {},
   "outputs": [],
   "source": [
    "from sklearn.model_selection import train_test_split\n",
    "\n",
    "x_train, x_test, y_train, y_test = train_test_split(transactions[['amount', 'isPayment', 'isMovement', 'accountDiff']], transactions['isFraud'], test_size=0.3, random_state=0)"
   ]
  },
  {
   "cell_type": "markdown",
   "metadata": {},
   "source": [
    "Since we are working with Logical Regression which uses regularization, we are going to need to standarize our data. We are going to use the StandardScaler from sklearn."
   ]
  },
  {
   "cell_type": "code",
   "execution_count": 131,
   "metadata": {},
   "outputs": [],
   "source": [
    "from sklearn.preprocessing import StandardScaler\n",
    "\n",
    "scaler = StandardScaler()\n",
    "x_train = scaler.fit_transform(x_train)\n",
    "x_test = scaler.fit_transform(x_test)\n"
   ]
  },
  {
   "cell_type": "markdown",
   "metadata": {},
   "source": [
    "Now that our data is ready we can create our model and fit it to our training data. We are going to start with an initial threshold of 0.5."
   ]
  },
  {
   "cell_type": "code",
   "execution_count": 120,
   "metadata": {},
   "outputs": [
    {
     "data": {
      "text/plain": [
       "0.8442857142857143"
      ]
     },
     "execution_count": 120,
     "metadata": {},
     "output_type": "execute_result"
    }
   ],
   "source": [
    "from sklearn.linear_model import LogisticRegression\n",
    "\n",
    "logisticRegr = LogisticRegression()\n",
    "logisticRegr.fit(x_train, y_train)\n",
    "\n",
    "logisticRegr.score(x_train, y_train) # We are trying to get a score > 0.80"
   ]
  },
  {
   "cell_type": "markdown",
   "metadata": {},
   "source": [
    "We fit our test data and score the model."
   ]
  },
  {
   "cell_type": "code",
   "execution_count": 119,
   "metadata": {},
   "outputs": [
    {
     "data": {
      "text/plain": [
       "0.6833333333333333"
      ]
     },
     "execution_count": 119,
     "metadata": {},
     "output_type": "execute_result"
    }
   ],
   "source": [
    "predictions = logisticRegr.predict(x_test)\n",
    "logisticRegr.score(x_test, y_test)"
   ]
  },
  {
   "cell_type": "markdown",
   "metadata": {},
   "source": [
    "Predictions: we testing data to predict the outcome of our model."
   ]
  },
  {
   "cell_type": "code",
   "execution_count": 133,
   "metadata": {},
   "outputs": [],
   "source": [
    "# New transaction data\n",
    "transaction1 = np.array([123456.78, 0.0, 1.0, 54670.1])\n",
    "transaction2 = np.array([98765.43, 1.0, 0.0, 8524.75])\n",
    "transaction3 = np.array([543678.31, 1.0, 0.0, 510025.5])\n",
    "transaction4 = np.array([123456.78, 0.0, 1.0, 0.0])\n",
    "\n",
    "sampleTransactions = np.array([transaction1, transaction2, transaction3, transaction4])\n",
    "sampleTransactions = scaler.fit_transform(sampleTransactions)\n"
   ]
  },
  {
   "cell_type": "code",
   "execution_count": 136,
   "metadata": {},
   "outputs": [
    {
     "name": "stdout",
     "output_type": "stream",
     "text": [
      "[[0.70354664 0.29645336]\n",
      " [0.9876293  0.0123707 ]\n",
      " [0.73549818 0.26450182]\n",
      " [0.61596297 0.38403703]]\n"
     ]
    }
   ],
   "source": [
    "predictions = logisticRegr.predict(sampleTransactions)\n",
    "print(logisticRegr.predict_proba(sampleTransactions))"
   ]
  }
 ],
 "metadata": {
  "kernelspec": {
   "display_name": "Python 3 (ipykernel)",
   "language": "python",
   "name": "python3"
  },
  "language_info": {
   "codemirror_mode": {
    "name": "ipython",
    "version": 3
   },
   "file_extension": ".py",
   "mimetype": "text/x-python",
   "name": "python",
   "nbconvert_exporter": "python",
   "pygments_lexer": "ipython3",
   "version": "3.10.9"
  }
 },
 "nbformat": 4,
 "nbformat_minor": 2
}
