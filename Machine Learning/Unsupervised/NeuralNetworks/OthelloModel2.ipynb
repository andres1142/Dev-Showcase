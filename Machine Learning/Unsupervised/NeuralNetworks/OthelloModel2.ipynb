{
 "cells": [
  {
   "cell_type": "code",
   "execution_count": null,
   "metadata": {
    "collapsed": true,
    "ExecuteTime": {
     "start_time": "2023-05-18T11:54:42.030001Z",
     "end_time": "2023-05-18T11:54:42.053998Z"
    }
   },
   "outputs": [],
   "source": [
    "import numpy as np\n",
    "import pandas as pd"
   ]
  },
  {
   "cell_type": "markdown",
   "source": [
    "# Data Manipulation"
   ],
   "metadata": {
    "collapsed": false
   }
  },
  {
   "cell_type": "markdown",
   "source": [
    "Since our data set comes in this format, we will go through our game_moves and then return an array of moves.\n",
    "\n",
    "game_data = {\n",
    "    'eOthello_game_id': 1056798,\n",
    "    'winner': 1,\n",
    "    'game_moves': 'f5d6c4d3e6f4e3f6c5b4e7f3c6d7b5a5c3b3g5h5g4h4e2g6b6d8c7c8a4a6a7f1a3c2d2b2e1b7g3h3f2d1a1a2b1a8c1g1f7g8'\n",
    "}\n",
    "\n",
    "We are going to convert the game moves into game states for player 1 and 2"
   ],
   "metadata": {
    "collapsed": false
   }
  },
  {
   "cell_type": "code",
   "execution_count": null,
   "outputs": [],
   "source": [
    "import numpy as np\n",
    "\n",
    "# Define the initial board state\n",
    "initial_board = np.zeros((8, 8), dtype=int)\n",
    "\n",
    "def update_board(board, move, player):\n",
    "    # Convert the move string to row and column indices\n",
    "    col = ord(move[0]) - ord('a')\n",
    "    row = int(move[1]) - 1\n",
    "\n",
    "    # Update the board with the player's move\n",
    "    board[row, col] = player\n",
    "\n",
    "    return board\n",
    "\n",
    "def convert_moves_to_board_states(moves):\n",
    "    # Create lists to store board states for each player\n",
    "    player1_states = [np.copy(initial_board)]\n",
    "    player2_states = [np.copy(initial_board)]\n",
    "\n",
    "    current_player = 1  # Player 1 starts\n",
    "\n",
    "    for move in moves:\n",
    "        # Update the board with the current player's move\n",
    "        if current_player == 1:\n",
    "            board = update_board(player1_states[-1], move, current_player)\n",
    "            player1_states.append(np.copy(board))\n",
    "        else:\n",
    "            board = update_board(player2_states[-1], move, current_player)\n",
    "            player2_states.append(np.copy(board))\n",
    "\n",
    "        # Switch to the next player\n",
    "        current_player = 3 - current_player  # Alternates between 1 and 2\n",
    "\n",
    "    return player1_states, player2_states\n"
   ],
   "metadata": {
    "collapsed": false,
    "ExecuteTime": {
     "start_time": "2023-05-18T11:54:42.049999Z",
     "end_time": "2023-05-18T11:54:42.096998Z"
    }
   }
  },
  {
   "cell_type": "code",
   "execution_count": null,
   "outputs": [],
   "source": [
    "# Extracts moves from a string into individual moves\n",
    "def extract_moves(moves):\n",
    "    move_list = [moves[i:i+2] for i in range(0, len(moves), 2)]\n",
    "    player1_states, player2_states = convert_moves_to_board_states(move_list)\n",
    "\n",
    "    result = {\n",
    "        'Log Player1': player1_states,\n",
    "        'Log Player2': player2_states\n",
    "    }\n",
    "    return pd.Series(result)"
   ],
   "metadata": {
    "collapsed": false,
    "ExecuteTime": {
     "start_time": "2023-05-18T11:54:42.063002Z",
     "end_time": "2023-05-18T11:54:42.097999Z"
    }
   }
  },
  {
   "cell_type": "code",
   "execution_count": null,
   "outputs": [],
   "source": [
    "historic_game_data = pd.read_csv('othello_dataset.csv', header=0,\n",
    "                                 names=['eOthello Game ID', 'Winner', 'Log'],\n",
    "                                 converters={'Log': extract_moves},\n",
    "                                 index_col=['eOthello Game ID'])\n",
    "\n",
    "# Expand the dataframe with Log Player1 and Log Player2 columns\n",
    "historic_game_data = pd.concat([historic_game_data['Winner'],\n",
    "                                historic_game_data['Log'].apply(pd.Series)], axis=1)"
   ],
   "metadata": {
    "collapsed": false,
    "ExecuteTime": {
     "start_time": "2023-05-18T12:16:03.216600Z",
     "end_time": "2023-05-18T12:16:23.346951Z"
    }
   }
  },
  {
   "cell_type": "markdown",
   "source": [],
   "metadata": {
    "collapsed": false
   }
  },
  {
   "cell_type": "markdown",
   "source": [
    "## Model for Player 1 Log\n"
   ],
   "metadata": {
    "collapsed": false
   }
  },
  {
   "cell_type": "code",
   "execution_count": null,
   "outputs": [],
   "source": [
    "import tensorflow as tf\n",
    "from sklearn.model_selection import train_test_split"
   ],
   "metadata": {
    "collapsed": false,
    "ExecuteTime": {
     "start_time": "2023-05-18T12:18:55.341743Z",
     "end_time": "2023-05-18T12:18:55.352740Z"
    }
   }
  },
  {
   "cell_type": "code",
   "execution_count": null,
   "outputs": [],
   "source": [
    "# Define the input shape\n",
    "input_shape = (8, 8)\n",
    "\n",
    "# Create the model\n",
    "modelBlackPlayer1 = tf.keras.Sequential([\n",
    "    tf.keras.layers.Flatten(input_shape=input_shape),\n",
    "    tf.keras.layers.Dense(64, activation='relu'),\n",
    "    tf.keras.layers.Dense(32, activation='relu'),\n",
    "    tf.keras.layers.Dense(2, activation='softmax')\n",
    "])"
   ],
   "metadata": {
    "collapsed": false,
    "ExecuteTime": {
     "start_time": "2023-05-18T12:18:55.614962Z",
     "end_time": "2023-05-18T12:18:55.680961Z"
    }
   }
  },
  {
   "cell_type": "markdown",
   "source": [
    "Divide training and validation data for Black Player 1."
   ],
   "metadata": {
    "collapsed": false
   }
  },
  {
   "cell_type": "code",
   "execution_count": null,
   "outputs": [],
   "source": [
    "x_train, x_val, y_train, y_val = train_test_split(historic_game_data['Log Player1'], historic_game_data['Winner'], test_size=0.2, random_state=42)\n",
    "\n",
    "modelBlackPlayer1.compile(optimizer='adam',\n",
    "              loss=tf.keras.losses.SparseCategoricalCrossentropy(from_logits=False),\n",
    "              metrics=['accuracy'])"
   ],
   "metadata": {
    "collapsed": false,
    "ExecuteTime": {
     "start_time": "2023-05-18T12:18:56.419215Z",
     "end_time": "2023-05-18T12:18:56.482207Z"
    }
   }
  },
  {
   "cell_type": "code",
   "execution_count": 131,
   "outputs": [
    {
     "name": "stderr",
     "output_type": "stream",
     "text": [
      "C:\\Users\\afmo2\\AppData\\Local\\Temp\\ipykernel_30452\\3159464968.py:2: VisibleDeprecationWarning: Creating an ndarray from ragged nested sequences (which is a list-or-tuple of lists-or-tuples-or ndarrays with different lengths or shapes) is deprecated. If you meant to do this, you must specify 'dtype=object' when creating the ndarray.\n",
      "  x_train_reshaped = np.array([np.array(x) for x in x_train])  # Convert each element to a NumPy array\n"
     ]
    },
    {
     "ename": "ValueError",
     "evalue": "cannot reshape array of size 20525 into shape (8,8)",
     "output_type": "error",
     "traceback": [
      "\u001B[1;31m---------------------------------------------------------------------------\u001B[0m",
      "\u001B[1;31mValueError\u001B[0m                                Traceback (most recent call last)",
      "Cell \u001B[1;32mIn[131], line 3\u001B[0m\n\u001B[0;32m      1\u001B[0m \u001B[38;5;66;03m# Reshape the input data to have a consistent shape\u001B[39;00m\n\u001B[0;32m      2\u001B[0m x_train_reshaped \u001B[38;5;241m=\u001B[39m np\u001B[38;5;241m.\u001B[39marray([np\u001B[38;5;241m.\u001B[39marray(x) \u001B[38;5;28;01mfor\u001B[39;00m x \u001B[38;5;129;01min\u001B[39;00m x_train])  \u001B[38;5;66;03m# Convert each element to a NumPy array\u001B[39;00m\n\u001B[1;32m----> 3\u001B[0m x_train_reshaped \u001B[38;5;241m=\u001B[39m \u001B[43mnp\u001B[49m\u001B[38;5;241;43m.\u001B[39;49m\u001B[43mreshape\u001B[49m\u001B[43m(\u001B[49m\u001B[43mx_train_reshaped\u001B[49m\u001B[43m,\u001B[49m\u001B[43m \u001B[49m\u001B[43m(\u001B[49m\u001B[38;5;241;43m-\u001B[39;49m\u001B[38;5;241;43m1\u001B[39;49m\u001B[43m,\u001B[49m\u001B[43m \u001B[49m\u001B[38;5;241;43m8\u001B[39;49m\u001B[43m,\u001B[49m\u001B[43m \u001B[49m\u001B[38;5;241;43m8\u001B[39;49m\u001B[43m)\u001B[49m\u001B[43m)\u001B[49m\n\u001B[0;32m      5\u001B[0m \u001B[38;5;66;03m# Split the data into training and validation sets\u001B[39;00m\n\u001B[0;32m      6\u001B[0m x_train_final, x_val_final, y_train, y_val \u001B[38;5;241m=\u001B[39m train_test_split(x_train_reshaped, y_train, test_size\u001B[38;5;241m=\u001B[39m\u001B[38;5;241m0.2\u001B[39m, random_state\u001B[38;5;241m=\u001B[39m\u001B[38;5;241m42\u001B[39m)\n",
      "File \u001B[1;32m<__array_function__ internals>:180\u001B[0m, in \u001B[0;36mreshape\u001B[1;34m(*args, **kwargs)\u001B[0m\n",
      "File \u001B[1;32m~\\AppData\\Local\\anaconda3\\lib\\site-packages\\numpy\\core\\fromnumeric.py:298\u001B[0m, in \u001B[0;36mreshape\u001B[1;34m(a, newshape, order)\u001B[0m\n\u001B[0;32m    198\u001B[0m \u001B[38;5;129m@array_function_dispatch\u001B[39m(_reshape_dispatcher)\n\u001B[0;32m    199\u001B[0m \u001B[38;5;28;01mdef\u001B[39;00m \u001B[38;5;21mreshape\u001B[39m(a, newshape, order\u001B[38;5;241m=\u001B[39m\u001B[38;5;124m'\u001B[39m\u001B[38;5;124mC\u001B[39m\u001B[38;5;124m'\u001B[39m):\n\u001B[0;32m    200\u001B[0m     \u001B[38;5;124;03m\"\"\"\u001B[39;00m\n\u001B[0;32m    201\u001B[0m \u001B[38;5;124;03m    Gives a new shape to an array without changing its data.\u001B[39;00m\n\u001B[0;32m    202\u001B[0m \n\u001B[1;32m   (...)\u001B[0m\n\u001B[0;32m    296\u001B[0m \u001B[38;5;124;03m           [5, 6]])\u001B[39;00m\n\u001B[0;32m    297\u001B[0m \u001B[38;5;124;03m    \"\"\"\u001B[39;00m\n\u001B[1;32m--> 298\u001B[0m     \u001B[38;5;28;01mreturn\u001B[39;00m \u001B[43m_wrapfunc\u001B[49m\u001B[43m(\u001B[49m\u001B[43ma\u001B[49m\u001B[43m,\u001B[49m\u001B[43m \u001B[49m\u001B[38;5;124;43m'\u001B[39;49m\u001B[38;5;124;43mreshape\u001B[39;49m\u001B[38;5;124;43m'\u001B[39;49m\u001B[43m,\u001B[49m\u001B[43m \u001B[49m\u001B[43mnewshape\u001B[49m\u001B[43m,\u001B[49m\u001B[43m \u001B[49m\u001B[43morder\u001B[49m\u001B[38;5;241;43m=\u001B[39;49m\u001B[43morder\u001B[49m\u001B[43m)\u001B[49m\n",
      "File \u001B[1;32m~\\AppData\\Local\\anaconda3\\lib\\site-packages\\numpy\\core\\fromnumeric.py:57\u001B[0m, in \u001B[0;36m_wrapfunc\u001B[1;34m(obj, method, *args, **kwds)\u001B[0m\n\u001B[0;32m     54\u001B[0m     \u001B[38;5;28;01mreturn\u001B[39;00m _wrapit(obj, method, \u001B[38;5;241m*\u001B[39margs, \u001B[38;5;241m*\u001B[39m\u001B[38;5;241m*\u001B[39mkwds)\n\u001B[0;32m     56\u001B[0m \u001B[38;5;28;01mtry\u001B[39;00m:\n\u001B[1;32m---> 57\u001B[0m     \u001B[38;5;28;01mreturn\u001B[39;00m bound(\u001B[38;5;241m*\u001B[39margs, \u001B[38;5;241m*\u001B[39m\u001B[38;5;241m*\u001B[39mkwds)\n\u001B[0;32m     58\u001B[0m \u001B[38;5;28;01mexcept\u001B[39;00m \u001B[38;5;167;01mTypeError\u001B[39;00m:\n\u001B[0;32m     59\u001B[0m     \u001B[38;5;66;03m# A TypeError occurs if the object does have such a method in its\u001B[39;00m\n\u001B[0;32m     60\u001B[0m     \u001B[38;5;66;03m# class, but its signature is not identical to that of NumPy's. This\u001B[39;00m\n\u001B[1;32m   (...)\u001B[0m\n\u001B[0;32m     64\u001B[0m     \u001B[38;5;66;03m# Call _wrapit from within the except clause to ensure a potential\u001B[39;00m\n\u001B[0;32m     65\u001B[0m     \u001B[38;5;66;03m# exception has a traceback chain.\u001B[39;00m\n\u001B[0;32m     66\u001B[0m     \u001B[38;5;28;01mreturn\u001B[39;00m _wrapit(obj, method, \u001B[38;5;241m*\u001B[39margs, \u001B[38;5;241m*\u001B[39m\u001B[38;5;241m*\u001B[39mkwds)\n",
      "\u001B[1;31mValueError\u001B[0m: cannot reshape array of size 20525 into shape (8,8)"
     ]
    }
   ],
   "source": [
    "# Reshape the input data to have a consistent shape\n",
    "x_train_reshaped = np.array([np.array(x) for x in x_train])  # Convert each element to a NumPy array\n",
    "x_train_reshaped = np.reshape(x_train_reshaped, (-1, 8, 8))\n",
    "\n",
    "# Split the data into training and validation sets\n",
    "x_train_final, x_val_final, y_train, y_val = train_test_split(x_train_reshaped, y_train, test_size=0.2, random_state=42)\n",
    "\n",
    "# Convert the NumPy arrays to TensorFlow tensors\n",
    "tensor_x_train = tf.convert_to_tensor(x_train_final)\n",
    "tensor_y_train = tf.convert_to_tensor(y_train)\n",
    "\n",
    "\n",
    "modelBlackPlayer1.fit(tensor_x_train, tensor_y_train, epochs=10, batch_size=32)"
   ],
   "metadata": {
    "collapsed": false
   }
  },
  {
   "cell_type": "code",
   "execution_count": 130,
   "outputs": [],
   "source": [],
   "metadata": {
    "collapsed": false,
    "ExecuteTime": {
     "start_time": "2023-05-18T12:22:01.789640Z",
     "end_time": "2023-05-18T12:22:01.848636Z"
    }
   }
  },
  {
   "cell_type": "code",
   "execution_count": null,
   "outputs": [],
   "source": [],
   "metadata": {
    "collapsed": false
   }
  }
 ],
 "metadata": {
  "kernelspec": {
   "display_name": "Python 3",
   "language": "python",
   "name": "python3"
  },
  "language_info": {
   "codemirror_mode": {
    "name": "ipython",
    "version": 2
   },
   "file_extension": ".py",
   "mimetype": "text/x-python",
   "name": "python",
   "nbconvert_exporter": "python",
   "pygments_lexer": "ipython2",
   "version": "2.7.6"
  }
 },
 "nbformat": 4,
 "nbformat_minor": 0
}
