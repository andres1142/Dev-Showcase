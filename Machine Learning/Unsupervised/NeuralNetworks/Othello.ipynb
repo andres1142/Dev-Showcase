{
 "cells": [
  {
   "cell_type": "code",
   "execution_count": 26,
   "metadata": {
    "collapsed": true,
    "ExecuteTime": {
     "start_time": "2023-05-18T09:51:50.064764Z",
     "end_time": "2023-05-18T09:51:50.123765Z"
    }
   },
   "outputs": [],
   "source": [
    "import numpy as np\n",
    "import pandas as pd"
   ]
  },
  {
   "cell_type": "markdown",
   "source": [
    "Values and functions used to process a 64 character string like it was an 8 by 8 array.\n",
    "The board is represented as a 64 character string (+ is black, - is white, 0 is an empty space)."
   ],
   "metadata": {
    "collapsed": false
   }
  },
  {
   "cell_type": "code",
   "execution_count": 89,
   "outputs": [],
   "source": [
    "initial_board = '000000000000000000000000000-+000000+-000000000000000000000000000'\n",
    "\n",
    "# Conversion values\n",
    "\n",
    "who = ('Draw', 'Black', 'White')\n",
    "marker = {'0': 0, '+': 1, '-': -1,\n",
    "          0: '0', 1: '+', -1: '-',\n",
    "          }\n",
    "training_value = {'+': 1.0, '-': 0.0, '0': 0.5}\n",
    "letter_conv = {'A':0, 'B':1, 'C':2, 'D':3, 'E':4, 'F':5, 'G':6, 'H':7,\n",
    "               'a':0, 'b':1, 'c':2, 'd':3, 'e':4, 'f':5, 'g':6, 'h':7,\n",
    "               }\n",
    "increments = ((-1, -1), (-1, 0), (-1, 1),\n",
    "              (0, -1), (0, 1),\n",
    "              (1, -1), (1, 0), (1, 1),\n",
    "              )\n",
    "\n",
    "# Convert position formats.\n",
    "\n",
    "def a1_num(pos):\n",
    "    return (int(pos[1]) - 1) * 8 + letter_conv[pos[0]]\n",
    "\n",
    "def a1_rc(pos):\n",
    "    return int(pos[1]) - 1, letter_conv[pos[0]]\n",
    "\n",
    "# Convert the character string representation of the board to an array.\n",
    "\n",
    "def txt_training(brd):\n",
    "    result = []\n",
    "    for b in brd:\n",
    "        result.append(training_value[b])\n",
    "    return result\n",
    "\n",
    "# Return the value of the board position given row/column coordinates.\n",
    "\n",
    "def chk(brd, r, c):\n",
    "    if 0 <= r < 8 and 0 <= c < 8:\n",
    "        return marker[brd[r * 8 + c]]\n",
    "    else:\n",
    "        return 99\n",
    "\n",
    "# Update the board position given row/column coordinates.\n",
    "\n",
    "def upd(brd, r, c, player):\n",
    "    return brd[:r * 8 + c] + marker[player] + brd[r * 8 + c + 1:]"
   ],
   "metadata": {
    "collapsed": false,
    "ExecuteTime": {
     "start_time": "2023-05-18T10:58:58.514795Z",
     "end_time": "2023-05-18T10:58:58.531794Z"
    }
   }
  },
  {
   "cell_type": "markdown",
   "source": [
    "This is the key logic! In order to know the board configurations in the game logs, you have to 'play' each move."
   ],
   "metadata": {
    "collapsed": false
   }
  },
  {
   "cell_type": "code",
   "execution_count": 28,
   "outputs": [],
   "source": [
    "def move(brd, pos, player):\n",
    "    r, c = pos\n",
    "    if chk(brd, r, c) != 0:\n",
    "        return brd\n",
    "\n",
    "    for inc in increments:\n",
    "        inc_r, inc_c = inc\n",
    "        i = 1\n",
    "        while chk(brd, r + inc_r * i, c + inc_c * i) == -player:\n",
    "            i += 1\n",
    "        if i > 1 and chk(brd, r + inc_r * i, c + inc_c * i) == player:\n",
    "            i -= 1\n",
    "            while i >= 0:\n",
    "                brd = upd(brd, r + inc_r * i, c + inc_c * i, player)\n",
    "                i -= 1\n",
    "\n",
    "    return brd\n"
   ],
   "metadata": {
    "collapsed": false,
    "ExecuteTime": {
     "start_time": "2023-05-18T09:51:50.093766Z",
     "end_time": "2023-05-18T09:51:50.189782Z"
    }
   }
  },
  {
   "cell_type": "markdown",
   "source": [
    "Add the board configurations and player information to the game log.\n",
    "Note: A player can play twice in a row if the other player does not have a valid move."
   ],
   "metadata": {
    "collapsed": false
   }
  },
  {
   "cell_type": "code",
   "execution_count": 29,
   "outputs": [],
   "source": [
    "# Convert numeric player information to text.\n",
    "\n",
    "def conv_winner(x):\n",
    "    return who[int(x)]\n",
    "\n",
    "def conv_log(log):\n",
    "    player = 1\n",
    "    b0 = initial_board\n",
    "    result = []\n",
    "    for i in range(0, len(log), 2):\n",
    "        b1 = move(b0, a1_rc(log[i:i+2]), player)\n",
    "        if b1 == b0:\n",
    "            player *= -1\n",
    "            b1 = move(b0, a1_rc(log[i:i+2]), player)\n",
    "        result.append((who[player], b0, log[i:i+2], b1))\n",
    "        b0 = b1\n",
    "        player *= -1\n",
    "\n",
    "    return tuple(result)"
   ],
   "metadata": {
    "collapsed": false,
    "ExecuteTime": {
     "start_time": "2023-05-18T09:51:50.111767Z",
     "end_time": "2023-05-18T09:51:50.191765Z"
    }
   }
  },
  {
   "cell_type": "markdown",
   "source": [
    "Read the historic game logs"
   ],
   "metadata": {
    "collapsed": false
   }
  },
  {
   "cell_type": "code",
   "execution_count": 30,
   "outputs": [
    {
     "data": {
      "text/plain": "                 Winner                                                Log\neOthello Game ID                                                          \n1056798           Black  ((Black, 000000000000000000000000000-+000000+-...\n1050515           White  ((Black, 000000000000000000000000000-+000000+-...\n996989            Black  ((Black, 000000000000000000000000000-+000000+-...\n977775             Draw  ((Black, 000000000000000000000000000-+000000+-...\n900860            Black  ((Black, 000000000000000000000000000-+000000+-...\n...                 ...                                                ...\n16872             White  ((Black, 000000000000000000000000000-+000000+-...\n16761             White  ((Black, 000000000000000000000000000-+000000+-...\n16740             Black  ((Black, 000000000000000000000000000-+000000+-...\n16906             Black  ((Black, 000000000000000000000000000-+000000+-...\n17054             Black  ((Black, 000000000000000000000000000-+000000+-...\n\n[25657 rows x 2 columns]",
      "text/html": "<div>\n<style scoped>\n    .dataframe tbody tr th:only-of-type {\n        vertical-align: middle;\n    }\n\n    .dataframe tbody tr th {\n        vertical-align: top;\n    }\n\n    .dataframe thead th {\n        text-align: right;\n    }\n</style>\n<table border=\"1\" class=\"dataframe\">\n  <thead>\n    <tr style=\"text-align: right;\">\n      <th></th>\n      <th>Winner</th>\n      <th>Log</th>\n    </tr>\n    <tr>\n      <th>eOthello Game ID</th>\n      <th></th>\n      <th></th>\n    </tr>\n  </thead>\n  <tbody>\n    <tr>\n      <th>1056798</th>\n      <td>Black</td>\n      <td>((Black, 000000000000000000000000000-+000000+-...</td>\n    </tr>\n    <tr>\n      <th>1050515</th>\n      <td>White</td>\n      <td>((Black, 000000000000000000000000000-+000000+-...</td>\n    </tr>\n    <tr>\n      <th>996989</th>\n      <td>Black</td>\n      <td>((Black, 000000000000000000000000000-+000000+-...</td>\n    </tr>\n    <tr>\n      <th>977775</th>\n      <td>Draw</td>\n      <td>((Black, 000000000000000000000000000-+000000+-...</td>\n    </tr>\n    <tr>\n      <th>900860</th>\n      <td>Black</td>\n      <td>((Black, 000000000000000000000000000-+000000+-...</td>\n    </tr>\n    <tr>\n      <th>...</th>\n      <td>...</td>\n      <td>...</td>\n    </tr>\n    <tr>\n      <th>16872</th>\n      <td>White</td>\n      <td>((Black, 000000000000000000000000000-+000000+-...</td>\n    </tr>\n    <tr>\n      <th>16761</th>\n      <td>White</td>\n      <td>((Black, 000000000000000000000000000-+000000+-...</td>\n    </tr>\n    <tr>\n      <th>16740</th>\n      <td>Black</td>\n      <td>((Black, 000000000000000000000000000-+000000+-...</td>\n    </tr>\n    <tr>\n      <th>16906</th>\n      <td>Black</td>\n      <td>((Black, 000000000000000000000000000-+000000+-...</td>\n    </tr>\n    <tr>\n      <th>17054</th>\n      <td>Black</td>\n      <td>((Black, 000000000000000000000000000-+000000+-...</td>\n    </tr>\n  </tbody>\n</table>\n<p>25657 rows × 2 columns</p>\n</div>"
     },
     "execution_count": 30,
     "metadata": {},
     "output_type": "execute_result"
    }
   ],
   "source": [
    "historic_game_data = pd.read_csv('othello_dataset.csv', header=0,\n",
    "                                 names=['eOthello Game ID', 'Winner','Log',],\n",
    "                                 converters={'Winner': conv_winner, 'Log': conv_log},\n",
    "                                 index_col=['eOthello Game ID'])\n",
    "historic_game_data"
   ],
   "metadata": {
    "collapsed": false,
    "ExecuteTime": {
     "start_time": "2023-05-18T09:51:50.121765Z",
     "end_time": "2023-05-18T09:52:06.826336Z"
    }
   }
  },
  {
   "cell_type": "markdown",
   "source": [
    "Moves of interest are moves that a player made in games that they won."
   ],
   "metadata": {
    "collapsed": false
   }
  },
  {
   "cell_type": "code",
   "execution_count": 31,
   "outputs": [
    {
     "data": {
      "text/plain": "       Player                                    Feature - Board  Label - Move\n0       Black  [0.5, 0.5, 0.5, 0.5, 0.5, 0.5, 0.5, 0.5, 0.5, ...            37\n1       Black  [0.5, 0.5, 0.5, 0.5, 0.5, 0.5, 0.5, 0.5, 0.5, ...            26\n2       Black  [0.5, 0.5, 0.5, 0.5, 0.5, 0.5, 0.5, 0.5, 0.5, ...            44\n3       Black  [0.5, 0.5, 0.5, 0.5, 0.5, 0.5, 0.5, 0.5, 0.5, ...            20\n4       Black  [0.5, 0.5, 0.5, 0.5, 0.5, 0.5, 0.5, 0.5, 0.5, ...            34\n...       ...                                                ...           ...\n764541  White  [0.0, 0.0, 0.0, 0.0, 0.0, 0.0, 0.0, 0.0, 0.5, ...            14\n764542  White  [0.0, 0.0, 0.0, 0.0, 0.0, 0.0, 0.0, 0.0, 0.5, ...            62\n764543  White  [0.0, 0.0, 0.0, 0.0, 0.0, 0.0, 0.0, 0.0, 0.5, ...             8\n764544  White  [0.0, 0.0, 0.0, 0.0, 0.0, 0.0, 0.0, 0.0, 0.0, ...            49\n764545  White  [0.0, 0.0, 0.0, 0.0, 0.0, 0.0, 0.0, 0.0, 0.0, ...            57\n\n[764546 rows x 3 columns]",
      "text/html": "<div>\n<style scoped>\n    .dataframe tbody tr th:only-of-type {\n        vertical-align: middle;\n    }\n\n    .dataframe tbody tr th {\n        vertical-align: top;\n    }\n\n    .dataframe thead th {\n        text-align: right;\n    }\n</style>\n<table border=\"1\" class=\"dataframe\">\n  <thead>\n    <tr style=\"text-align: right;\">\n      <th></th>\n      <th>Player</th>\n      <th>Feature - Board</th>\n      <th>Label - Move</th>\n    </tr>\n  </thead>\n  <tbody>\n    <tr>\n      <th>0</th>\n      <td>Black</td>\n      <td>[0.5, 0.5, 0.5, 0.5, 0.5, 0.5, 0.5, 0.5, 0.5, ...</td>\n      <td>37</td>\n    </tr>\n    <tr>\n      <th>1</th>\n      <td>Black</td>\n      <td>[0.5, 0.5, 0.5, 0.5, 0.5, 0.5, 0.5, 0.5, 0.5, ...</td>\n      <td>26</td>\n    </tr>\n    <tr>\n      <th>2</th>\n      <td>Black</td>\n      <td>[0.5, 0.5, 0.5, 0.5, 0.5, 0.5, 0.5, 0.5, 0.5, ...</td>\n      <td>44</td>\n    </tr>\n    <tr>\n      <th>3</th>\n      <td>Black</td>\n      <td>[0.5, 0.5, 0.5, 0.5, 0.5, 0.5, 0.5, 0.5, 0.5, ...</td>\n      <td>20</td>\n    </tr>\n    <tr>\n      <th>4</th>\n      <td>Black</td>\n      <td>[0.5, 0.5, 0.5, 0.5, 0.5, 0.5, 0.5, 0.5, 0.5, ...</td>\n      <td>34</td>\n    </tr>\n    <tr>\n      <th>...</th>\n      <td>...</td>\n      <td>...</td>\n      <td>...</td>\n    </tr>\n    <tr>\n      <th>764541</th>\n      <td>White</td>\n      <td>[0.0, 0.0, 0.0, 0.0, 0.0, 0.0, 0.0, 0.0, 0.5, ...</td>\n      <td>14</td>\n    </tr>\n    <tr>\n      <th>764542</th>\n      <td>White</td>\n      <td>[0.0, 0.0, 0.0, 0.0, 0.0, 0.0, 0.0, 0.0, 0.5, ...</td>\n      <td>62</td>\n    </tr>\n    <tr>\n      <th>764543</th>\n      <td>White</td>\n      <td>[0.0, 0.0, 0.0, 0.0, 0.0, 0.0, 0.0, 0.0, 0.5, ...</td>\n      <td>8</td>\n    </tr>\n    <tr>\n      <th>764544</th>\n      <td>White</td>\n      <td>[0.0, 0.0, 0.0, 0.0, 0.0, 0.0, 0.0, 0.0, 0.0, ...</td>\n      <td>49</td>\n    </tr>\n    <tr>\n      <th>764545</th>\n      <td>White</td>\n      <td>[0.0, 0.0, 0.0, 0.0, 0.0, 0.0, 0.0, 0.0, 0.0, ...</td>\n      <td>57</td>\n    </tr>\n  </tbody>\n</table>\n<p>764546 rows × 3 columns</p>\n</div>"
     },
     "execution_count": 31,
     "metadata": {},
     "output_type": "execute_result"
    }
   ],
   "source": [
    "winning_moves_list = []\n",
    "for game in list(historic_game_data[historic_game_data['Winner']=='Black'].Log):\n",
    "    for game_move in game:\n",
    "        if game_move[0] == 'Black':\n",
    "            winning_moves_list.append(('Black', game_move[1], a1_num(game_move[2])))\n",
    "for game in list(historic_game_data[historic_game_data['Winner']=='White'].Log):\n",
    "    for game_move in game:\n",
    "        if game_move[0] == 'White':\n",
    "            winning_moves_list.append(('White', game_move[1], a1_num(game_move[2])))\n",
    "\n",
    "# For machine learning:\n",
    "#   - board values are transformed to values between 0 and 1\n",
    "#   - move values are transformed to integers between 0 and 63\n",
    "\n",
    "training_df = pd.DataFrame(winning_moves_list, columns=['Player', 'Feature - Board', 'Label - Move'])\n",
    "training_df['Feature - Board'] = training_df['Feature - Board'].apply(txt_training)\n",
    "training_df"
   ],
   "metadata": {
    "collapsed": false,
    "ExecuteTime": {
     "start_time": "2023-05-18T09:52:06.830341Z",
     "end_time": "2023-05-18T09:52:14.020021Z"
    }
   }
  },
  {
   "cell_type": "markdown",
   "source": [
    "Feature and label training arrays."
   ],
   "metadata": {
    "collapsed": false
   }
  },
  {
   "cell_type": "code",
   "execution_count": 85,
   "outputs": [
    {
     "data": {
      "text/plain": "array([[0.5, 0.5, 0.5, ..., 0.5, 0.5, 0.5],\n       [0.5, 0.5, 0.5, ..., 0.5, 0.5, 0.5],\n       [0.5, 0.5, 0.5, ..., 0.5, 0.5, 0.5],\n       ...,\n       [0. , 0. , 0. , ..., 1. , 0. , 1. ],\n       [0. , 0. , 0. , ..., 1. , 0. , 1. ],\n       [0. , 0. , 0. , ..., 1. , 0. , 1. ]])"
     },
     "execution_count": 85,
     "metadata": {},
     "output_type": "execute_result"
    }
   ],
   "source": [
    "features= np.vstack(training_df['Feature - Board'])\n",
    "features"
   ],
   "metadata": {
    "collapsed": false,
    "ExecuteTime": {
     "start_time": "2023-05-18T10:48:49.372010Z",
     "end_time": "2023-05-18T10:48:54.956994Z"
    }
   }
  },
  {
   "cell_type": "code",
   "execution_count": 79,
   "outputs": [],
   "source": [
    "labels = np.array(training_df['Label - Move'])"
   ],
   "metadata": {
    "collapsed": false,
    "ExecuteTime": {
     "start_time": "2023-05-18T10:35:56.389947Z",
     "end_time": "2023-05-18T10:35:56.415944Z"
    }
   }
  },
  {
   "cell_type": "markdown",
   "source": [
    "# Train Neural Network"
   ],
   "metadata": {
    "collapsed": false
   }
  },
  {
   "cell_type": "code",
   "execution_count": 72,
   "outputs": [],
   "source": [
    "import tensorflow as tf\n",
    "from sklearn.model_selection import train_test_split"
   ],
   "metadata": {
    "collapsed": false,
    "ExecuteTime": {
     "start_time": "2023-05-18T10:32:12.438722Z",
     "end_time": "2023-05-18T10:32:12.467721Z"
    }
   }
  },
  {
   "cell_type": "markdown",
   "source": [
    "Create model"
   ],
   "metadata": {
    "collapsed": false
   }
  },
  {
   "cell_type": "code",
   "execution_count": 81,
   "outputs": [],
   "source": [
    "model = tf.keras.models.Sequential([\n",
    "    tf.keras.layers.Dense(128, activation='relu', input_shape=(64,)),\n",
    "    tf.keras.layers.Dense(64, activation='relu'),\n",
    "    tf.keras.layers.Dense(64, activation='softmax')\n",
    "])"
   ],
   "metadata": {
    "collapsed": false,
    "ExecuteTime": {
     "start_time": "2023-05-18T10:38:24.744077Z",
     "end_time": "2023-05-18T10:38:24.800076Z"
    }
   }
  },
  {
   "cell_type": "markdown",
   "source": [
    "## Data preparations and model training"
   ],
   "metadata": {
    "collapsed": false
   }
  },
  {
   "cell_type": "code",
   "execution_count": 83,
   "outputs": [],
   "source": [
    "x_train, x_val, y_train, y_val = train_test_split(features, labels, test_size=0.2, random_state=42)\n",
    "\n",
    "model.compile(optimizer='adam',\n",
    "              loss=tf.keras.losses.SparseCategoricalCrossentropy(from_logits=False),\n",
    "              metrics=['accuracy'])"
   ],
   "metadata": {
    "collapsed": false,
    "ExecuteTime": {
     "start_time": "2023-05-18T10:38:28.973273Z",
     "end_time": "2023-05-18T10:38:29.432166Z"
    }
   }
  },
  {
   "cell_type": "markdown",
   "source": [
    "Train model with training data."
   ],
   "metadata": {
    "collapsed": false
   }
  },
  {
   "cell_type": "code",
   "execution_count": 84,
   "outputs": [
    {
     "name": "stdout",
     "output_type": "stream",
     "text": [
      "Epoch 1/10\n",
      "19114/19114 [==============================] - 58s 3ms/step - loss: 3.4335 - accuracy: 0.1011\n",
      "Epoch 2/10\n",
      "19114/19114 [==============================] - 50s 3ms/step - loss: 3.0969 - accuracy: 0.1651\n",
      "Epoch 3/10\n",
      "19114/19114 [==============================] - 57s 3ms/step - loss: 2.9153 - accuracy: 0.1979\n",
      "Epoch 4/10\n",
      "19114/19114 [==============================] - 56s 3ms/step - loss: 2.8002 - accuracy: 0.2177\n",
      "Epoch 5/10\n",
      "19114/19114 [==============================] - 53s 3ms/step - loss: 2.7151 - accuracy: 0.2326\n",
      "Epoch 6/10\n",
      "19114/19114 [==============================] - 52s 3ms/step - loss: 2.6446 - accuracy: 0.2449\n",
      "Epoch 7/10\n",
      "19114/19114 [==============================] - 62s 3ms/step - loss: 2.5869 - accuracy: 0.2549\n",
      "Epoch 8/10\n",
      "19114/19114 [==============================] - 56s 3ms/step - loss: 2.5391 - accuracy: 0.2633\n",
      "Epoch 9/10\n",
      "19114/19114 [==============================] - 52s 3ms/step - loss: 2.5028 - accuracy: 0.2698\n",
      "Epoch 10/10\n",
      "19114/19114 [==============================] - 56s 3ms/step - loss: 2.4753 - accuracy: 0.2744\n"
     ]
    },
    {
     "data": {
      "text/plain": "<keras.callbacks.History at 0x2152ee10130>"
     },
     "execution_count": 84,
     "metadata": {},
     "output_type": "execute_result"
    }
   ],
   "source": [
    "model.fit(x_train, y_train, epochs=10, batch_size=32)\n"
   ],
   "metadata": {
    "collapsed": false,
    "ExecuteTime": {
     "start_time": "2023-05-18T10:39:38.984764Z",
     "end_time": "2023-05-18T10:48:49.369012Z"
    }
   }
  },
  {
   "cell_type": "code",
   "execution_count": null,
   "outputs": [],
   "source": [],
   "metadata": {
    "collapsed": false
   }
  }
 ],
 "metadata": {
  "kernelspec": {
   "display_name": "Python 3",
   "language": "python",
   "name": "python3"
  },
  "language_info": {
   "codemirror_mode": {
    "name": "ipython",
    "version": 2
   },
   "file_extension": ".py",
   "mimetype": "text/x-python",
   "name": "python",
   "nbconvert_exporter": "python",
   "pygments_lexer": "ipython2",
   "version": "2.7.6"
  }
 },
 "nbformat": 4,
 "nbformat_minor": 0
}
