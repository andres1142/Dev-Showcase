{
 "cells": [
  {
   "cell_type": "markdown",
   "source": [
    "# Digits Dataset Using K-Means Clustering\n",
    "\n",
    "We are going to use the data set form sklearn.datasets.load_digits() to perform K-Means Clustering. We will use the K-Means Clustering to cluster the data into 10 clusters. We will then use the cluster centers to visualize the data."
   ],
   "metadata": {
    "collapsed": false
   }
  },
  {
   "cell_type": "code",
   "execution_count": 149,
   "outputs": [],
   "source": [
    "import pandas as pd\n",
    "import numpy as np\n",
    "import matplotlib.pyplot as plt\n",
    "from sklearn.datasets import load_digits\n"
   ],
   "metadata": {
    "collapsed": false,
    "ExecuteTime": {
     "start_time": "2023-04-22T15:08:21.513871Z",
     "end_time": "2023-04-22T15:08:21.636623Z"
    }
   }
  },
  {
   "cell_type": "code",
   "execution_count": 150,
   "outputs": [
    {
     "name": "stdout",
     "output_type": "stream",
     "text": [
      "[[ 0.  0.  5. ...  0.  0.  0.]\n",
      " [ 0.  0.  0. ... 10.  0.  0.]\n",
      " [ 0.  0.  0. ... 16.  9.  0.]\n",
      " ...\n",
      " [ 0.  0.  1. ...  6.  0.  0.]\n",
      " [ 0.  0.  2. ... 12.  0.  0.]\n",
      " [ 0.  0. 10. ... 12.  1.  0.]]\n"
     ]
    }
   ],
   "source": [
    "digits = load_digits()\n",
    "print(digits.data)"
   ],
   "metadata": {
    "collapsed": false,
    "ExecuteTime": {
     "start_time": "2023-04-22T15:08:21.522059Z",
     "end_time": "2023-04-22T15:08:21.713122Z"
    }
   }
  },
  {
   "cell_type": "markdown",
   "source": [
    "After loading the data and analyzing it. We have discovered that the data each entry is a 8x8 matrix. There a total of 1797 entries.\n",
    "\n",
    "Now that we have in mind how are data looks like, we can analyze our target data"
   ],
   "metadata": {
    "collapsed": false
   }
  },
  {
   "cell_type": "code",
   "execution_count": 151,
   "outputs": [],
   "source": [
    "target = digits.target"
   ],
   "metadata": {
    "collapsed": false,
    "ExecuteTime": {
     "start_time": "2023-04-22T15:08:21.637406Z",
     "end_time": "2023-04-22T15:08:21.713528Z"
    }
   }
  },
  {
   "cell_type": "markdown",
   "source": [
    "The target data shows that there will be 9 possible clusters representing natural number from 0-9 for our data. Lets visualize the data to see how it looks like."
   ],
   "metadata": {
    "collapsed": false
   }
  },
  {
   "cell_type": "code",
   "execution_count": 152,
   "outputs": [],
   "source": [
    "plt.gray()\n",
    "plt.matshow(digits.images[9])\n",
    "plt.show()"
   ],
   "metadata": {
    "collapsed": false,
    "ExecuteTime": {
     "start_time": "2023-04-22T15:08:21.646661Z",
     "end_time": "2023-04-22T15:08:21.879167Z"
    }
   }
  },
  {
   "cell_type": "markdown",
   "source": [
    "Create model and train it"
   ],
   "metadata": {
    "collapsed": false
   }
  },
  {
   "cell_type": "code",
   "execution_count": 153,
   "outputs": [],
   "source": [
    "from sklearn.cluster import KMeans"
   ],
   "metadata": {
    "collapsed": false,
    "ExecuteTime": {
     "start_time": "2023-04-22T15:08:21.855325Z",
     "end_time": "2023-04-22T15:08:21.880057Z"
    }
   }
  },
  {
   "cell_type": "code",
   "execution_count": 154,
   "outputs": [
    {
     "name": "stderr",
     "output_type": "stream",
     "text": [
      "/Users/andres/anaconda3/lib/python3.10/site-packages/sklearn/cluster/_kmeans.py:870: FutureWarning: The default value of `n_init` will change from 10 to 'auto' in 1.4. Set the value of `n_init` explicitly to suppress the warning\n",
      "  warnings.warn(\n"
     ]
    },
    {
     "data": {
      "text/plain": "KMeans(n_clusters=10, random_state=42)",
      "text/html": "<style>#sk-container-id-15 {color: black;background-color: white;}#sk-container-id-15 pre{padding: 0;}#sk-container-id-15 div.sk-toggleable {background-color: white;}#sk-container-id-15 label.sk-toggleable__label {cursor: pointer;display: block;width: 100%;margin-bottom: 0;padding: 0.3em;box-sizing: border-box;text-align: center;}#sk-container-id-15 label.sk-toggleable__label-arrow:before {content: \"▸\";float: left;margin-right: 0.25em;color: #696969;}#sk-container-id-15 label.sk-toggleable__label-arrow:hover:before {color: black;}#sk-container-id-15 div.sk-estimator:hover label.sk-toggleable__label-arrow:before {color: black;}#sk-container-id-15 div.sk-toggleable__content {max-height: 0;max-width: 0;overflow: hidden;text-align: left;background-color: #f0f8ff;}#sk-container-id-15 div.sk-toggleable__content pre {margin: 0.2em;color: black;border-radius: 0.25em;background-color: #f0f8ff;}#sk-container-id-15 input.sk-toggleable__control:checked~div.sk-toggleable__content {max-height: 200px;max-width: 100%;overflow: auto;}#sk-container-id-15 input.sk-toggleable__control:checked~label.sk-toggleable__label-arrow:before {content: \"▾\";}#sk-container-id-15 div.sk-estimator input.sk-toggleable__control:checked~label.sk-toggleable__label {background-color: #d4ebff;}#sk-container-id-15 div.sk-label input.sk-toggleable__control:checked~label.sk-toggleable__label {background-color: #d4ebff;}#sk-container-id-15 input.sk-hidden--visually {border: 0;clip: rect(1px 1px 1px 1px);clip: rect(1px, 1px, 1px, 1px);height: 1px;margin: -1px;overflow: hidden;padding: 0;position: absolute;width: 1px;}#sk-container-id-15 div.sk-estimator {font-family: monospace;background-color: #f0f8ff;border: 1px dotted black;border-radius: 0.25em;box-sizing: border-box;margin-bottom: 0.5em;}#sk-container-id-15 div.sk-estimator:hover {background-color: #d4ebff;}#sk-container-id-15 div.sk-parallel-item::after {content: \"\";width: 100%;border-bottom: 1px solid gray;flex-grow: 1;}#sk-container-id-15 div.sk-label:hover label.sk-toggleable__label {background-color: #d4ebff;}#sk-container-id-15 div.sk-serial::before {content: \"\";position: absolute;border-left: 1px solid gray;box-sizing: border-box;top: 0;bottom: 0;left: 50%;z-index: 0;}#sk-container-id-15 div.sk-serial {display: flex;flex-direction: column;align-items: center;background-color: white;padding-right: 0.2em;padding-left: 0.2em;position: relative;}#sk-container-id-15 div.sk-item {position: relative;z-index: 1;}#sk-container-id-15 div.sk-parallel {display: flex;align-items: stretch;justify-content: center;background-color: white;position: relative;}#sk-container-id-15 div.sk-item::before, #sk-container-id-15 div.sk-parallel-item::before {content: \"\";position: absolute;border-left: 1px solid gray;box-sizing: border-box;top: 0;bottom: 0;left: 50%;z-index: -1;}#sk-container-id-15 div.sk-parallel-item {display: flex;flex-direction: column;z-index: 1;position: relative;background-color: white;}#sk-container-id-15 div.sk-parallel-item:first-child::after {align-self: flex-end;width: 50%;}#sk-container-id-15 div.sk-parallel-item:last-child::after {align-self: flex-start;width: 50%;}#sk-container-id-15 div.sk-parallel-item:only-child::after {width: 0;}#sk-container-id-15 div.sk-dashed-wrapped {border: 1px dashed gray;margin: 0 0.4em 0.5em 0.4em;box-sizing: border-box;padding-bottom: 0.4em;background-color: white;}#sk-container-id-15 div.sk-label label {font-family: monospace;font-weight: bold;display: inline-block;line-height: 1.2em;}#sk-container-id-15 div.sk-label-container {text-align: center;}#sk-container-id-15 div.sk-container {/* jupyter's `normalize.less` sets `[hidden] { display: none; }` but bootstrap.min.css set `[hidden] { display: none !important; }` so we also need the `!important` here to be able to override the default hidden behavior on the sphinx rendered scikit-learn.org. See: https://github.com/scikit-learn/scikit-learn/issues/21755 */display: inline-block !important;position: relative;}#sk-container-id-15 div.sk-text-repr-fallback {display: none;}</style><div id=\"sk-container-id-15\" class=\"sk-top-container\"><div class=\"sk-text-repr-fallback\"><pre>KMeans(n_clusters=10, random_state=42)</pre><b>In a Jupyter environment, please rerun this cell to show the HTML representation or trust the notebook. <br />On GitHub, the HTML representation is unable to render, please try loading this page with nbviewer.org.</b></div><div class=\"sk-container\" hidden><div class=\"sk-item\"><div class=\"sk-estimator sk-toggleable\"><input class=\"sk-toggleable__control sk-hidden--visually\" id=\"sk-estimator-id-15\" type=\"checkbox\" checked><label for=\"sk-estimator-id-15\" class=\"sk-toggleable__label sk-toggleable__label-arrow\">KMeans</label><div class=\"sk-toggleable__content\"><pre>KMeans(n_clusters=10, random_state=42)</pre></div></div></div></div></div>"
     },
     "execution_count": 154,
     "metadata": {},
     "output_type": "execute_result"
    }
   ],
   "source": [
    "kmeans = KMeans(n_clusters=10, random_state=42)\n",
    "kmeans.fit(digits.data)"
   ],
   "metadata": {
    "collapsed": false,
    "ExecuteTime": {
     "start_time": "2023-04-22T15:08:21.876199Z",
     "end_time": "2023-04-22T15:08:22.165592Z"
    }
   }
  },
  {
   "cell_type": "markdown",
   "source": [
    "# Visualize the data"
   ],
   "metadata": {
    "collapsed": false
   }
  },
  {
   "cell_type": "code",
   "execution_count": 155,
   "outputs": [
    {
     "data": {
      "text/plain": "Text(0.5, 0.98, 'Cluster Center Images')"
     },
     "execution_count": 155,
     "metadata": {},
     "output_type": "execute_result"
    }
   ],
   "source": [
    "fig = plt.figure(figsize=(8, 3))\n",
    "fig.suptitle('Cluster Center Images', fontsize=14, fontweight='bold')"
   ],
   "metadata": {
    "collapsed": false,
    "ExecuteTime": {
     "start_time": "2023-04-22T15:08:22.197768Z",
     "end_time": "2023-04-22T15:08:22.288425Z"
    }
   }
  },
  {
   "cell_type": "markdown",
   "source": [
    "We create a for loop that plots each cluster center."
   ],
   "metadata": {
    "collapsed": false
   }
  },
  {
   "cell_type": "code",
   "execution_count": 156,
   "outputs": [],
   "source": [
    "for i in range(10):\n",
    "    # Initialize subplots in a grid of 2X5, at i+1th position\n",
    "    ax = fig.add_subplot(2, 5, 1 + i)\n",
    "    # Display images\n",
    "    ax.imshow(kmeans.cluster_centers_[i].reshape((8, 8)), cmap=plt.cm.binary)\n",
    "fig.savefig('digits.png')"
   ],
   "metadata": {
    "collapsed": false,
    "ExecuteTime": {
     "start_time": "2023-04-22T15:08:22.246037Z",
     "end_time": "2023-04-22T15:08:22.691706Z"
    }
   }
  },
  {
   "cell_type": "markdown",
   "source": [
    "# Testing the model\n",
    "\n",
    "The following array represents a group of 4 digits. The correct order should be 1 9 9 8. Lets see if our model can predict the correct order."
   ],
   "metadata": {
    "collapsed": false
   }
  },
  {
   "cell_type": "code",
   "execution_count": 157,
   "outputs": [],
   "source": [
    "testing_data = np.array([\n",
    "    [0.00,0.00,0.00,1.78,0.51,0.00,0.00,0.00,0.00,0.00,3.83,12.49,6.88,0.00,0.00,0.00,0.00,4.34,12.62,12.75,7.64,0.00,0.00,0.00,2.68,12.24,9.82,11.72,7.64,0.00,0.00,0.00,4.46,10.33,1.41,12.62,6.63,0.00,0.00,0.00,0.00,0.00,0.00,12.36,6.88,0.00,0.00,0.00,0.00,0.00,0.00,11.47,7.65,0.00,0.00,0.00,0.00,0.00,0.00,11.34,8.03,0.00,0.00,0.00],\n",
    "    [0.00,0.00,0.00,0.77,2.55,1.02,0.00,0.00,0.00,0.00,3.45,11.99,12.75,12.62,4.98,0.00,0.00,0.00,11.73,10.84,3.70,11.35,9.18,0.00,0.00,0.00,12.37,10.45,7.14,12.75,10.33,0.00,0.00,0.00,4.85,10.71,11.47,11.86,11.73,0.00,0.00,0.00,0.00,0.00,0.00,4.97,12.75,1.91,0.00,0.00,0.00,0.00,0.00,1.53,12.62,7.02,0.00,0.00,0.00,0.00,0.00,0.00,9.06,8.92],\n",
    "    [0.00,2.17,9.18,11.22,7.53,0.00,0.00,0.00,0.89,11.73,11.73,9.31,12.75,7.14,0.00,0.00,3.57,12.75,7.65,11.47,12.75,11.22,0.00,0.00,0.76,10.46,12.75,12.75,12.62,11.47,0.00,0.00,0.00,0.00,0.00,0.00,8.67,10.58,0.00,0.00,0.00,0.00,0.00,0.00,8.92,10.19,0.00,0.00,0.00,0.00,0.00,0.00,7.01,12.24,1.15,0.00,0.00,0.00,0.00,0.00,2.17,9.94,1.92,0.00],\n",
    "    [0.00,7.02,12.75,12.75,12.62,2.94,0.00,0.00,0.51,12.37,8.16,0.90,11.48,9.05,0.00,0.00,1.27,12.75,7.39,3.19,10.46,11.47,0.00,0.00,0.00,8.80,12.75,12.75,12.75,12.50,6.00,0.00,0.00,0.00,9.82,12.37,8.16,9.57,12.62,0.64,0.00,0.89,12.75,7.27,0.38,4.08,12.75,2.55,0.00,0.25,11.09,12.75,11.60,10.71,12.37,1.15,0.00,0.00,1.41,7.27,9.94,10.20,4.85,0.00]\n",
    "])"
   ],
   "metadata": {
    "collapsed": false,
    "ExecuteTime": {
     "start_time": "2023-04-22T15:08:22.701993Z",
     "end_time": "2023-04-22T15:08:22.722816Z"
    }
   }
  },
  {
   "cell_type": "code",
   "execution_count": 158,
   "outputs": [],
   "source": [
    "new_labels = kmeans.predict(testing_data)\n"
   ],
   "metadata": {
    "collapsed": false,
    "ExecuteTime": {
     "start_time": "2023-04-22T15:08:22.711659Z",
     "end_time": "2023-04-22T15:08:22.723062Z"
    }
   }
  },
  {
   "cell_type": "code",
   "execution_count": 159,
   "outputs": [
    {
     "name": "stdout",
     "output_type": "stream",
     "text": [
      "8199"
     ]
    }
   ],
   "source": [
    "for i in range(len(new_labels)):\n",
    "    if new_labels[i] == 0:\n",
    "        print(0, end='')\n",
    "    elif new_labels[i] == 1:\n",
    "        print(9, end='')\n",
    "    elif new_labels[i] == 2:\n",
    "        print(2, end='')\n",
    "    elif new_labels[i] == 3:\n",
    "        print(1, end='')\n",
    "    elif new_labels[i] == 4:\n",
    "        print(6, end='')\n",
    "    elif new_labels[i] == 5:\n",
    "        print(8, end='')\n",
    "    elif new_labels[i] == 6:\n",
    "        print(4, end='')\n",
    "    elif new_labels[i] == 7:\n",
    "        print(5, end='')\n",
    "    elif new_labels[i] == 8:\n",
    "        print(7, end='')\n",
    "    elif new_labels[i] == 9:\n",
    "        print(3, end='')"
   ],
   "metadata": {
    "collapsed": false,
    "ExecuteTime": {
     "start_time": "2023-04-22T15:08:22.722257Z",
     "end_time": "2023-04-22T15:08:22.742735Z"
    }
   }
  },
  {
   "cell_type": "markdown",
   "source": [
    "# Conclusion\n",
    "\n",
    "We can see that our model predicted the correct digits. This is a very simple example of how K-Means Clustering works.\n"
   ],
   "metadata": {
    "collapsed": false
   }
  },
  {
   "cell_type": "code",
   "execution_count": 159,
   "outputs": [],
   "source": [],
   "metadata": {
    "collapsed": false,
    "ExecuteTime": {
     "start_time": "2023-04-22T15:08:22.726992Z",
     "end_time": "2023-04-22T15:08:22.742970Z"
    }
   }
  }
 ],
 "metadata": {
  "kernelspec": {
   "display_name": "Python 3",
   "language": "python",
   "name": "python3"
  },
  "language_info": {
   "codemirror_mode": {
    "name": "ipython",
    "version": 2
   },
   "file_extension": ".py",
   "mimetype": "text/x-python",
   "name": "python",
   "nbconvert_exporter": "python",
   "pygments_lexer": "ipython2",
   "version": "2.7.6"
  }
 },
 "nbformat": 4,
 "nbformat_minor": 0
}
